{
 "cells": [
  {
   "cell_type": "markdown",
   "metadata": {},
   "source": [
    "# Project 2: Supervised Learning\n",
    "### Building a Student Intervention System\n",
    "<sub>Uirá Caiado. April 13, 2016<sub>"
   ]
  },
  {
   "cell_type": "markdown",
   "metadata": {},
   "source": [
    "#### Abstract\n",
    "\n",
    "_There exists a push from educators and administrators to raise the likelihood of students successfully complete their programs. The aim of this project is to identify students who need intervention before they drop out of school. My goal is to use concepts from supervised machine learning to find the most effective model with the least amount of computation costs that identify such students._\n",
    "\n",
    "## 1. Introduction\n",
    "\n",
    "In this section, I will give some background about the problem addressed and the goal of the project. I also will identify which type of model that will be developed.\n",
    "\n",
    "### 1.1. Some Background\n",
    "As stated by [Udacity](https://www.udacity.com/course/viewer#!/c-nd009/l-5446988865/m-5446493941) in the description for this project, as education has grown to rely more and more on technology, more and more data is available for examination and prediction. Logs of student activities, grades, interactions with teachers and fellow students, and more are now captured through learning management systems.\n",
    "\n",
    "Within all levels of education, there exists a surge to help increase the likelihood of student success without watering down the education or engaging in behaviors that raise the probability of passing metrics without improving the actual underlying learning. Graduation rates are often the criteria of choice for this, and educators and administrators are after new ways to predict success and failure early enough to stage effective interventions, as well as to identify the effectiveness of different interventions.\n",
    "\n",
    "### 1.2. The Goal\n",
    "\n",
    "The goal for this project is implementing a student intervention system using concepts from Supervised Machine Learning. I am going to choose and develop a model that will predict the likelihood that a given student will pass, thus helping diagnose whether or not an intervention is necessary.\n",
    "\n",
    "I will suppose that the data available to create the model is a representative but a small sample of the dataset that I would have access in the production environmet. So, besides the typical accuracy requirements for any machine-learning project, I am also going to look for models that are efficient in the use of resources (computation time and memory). Thus, the model will be evaluated on three factors:\n",
    "\n",
    "- Its [F1](https://en.wikipedia.org/wiki/F1_score) Score, summarizing the number of correct positives and correct negatives out of all posible cases. In other words, how well does the model differentiate likely passes from failures\n",
    "\n",
    "- The size of the training set, preferring smaller training sets over larger ones. That is, how much data does the model need to make a reasonable prediction?\n",
    "\n",
    "- The computation resources to make a reliable prediction. How much time and memory is required to correctly identify students that need intervention?\n",
    "\n",
    "### 1.3 Classification vs Regression\n",
    "\n",
    "```\n",
    "Udacity:\n",
    "Your goal is to identify students who might need early intervention - which type of supervised machine learning problem is this, classification or regression? Why?\n",
    "```\n",
    "\n",
    "The model that will be developed is a Classifier. According to \\cite{Hastie_2009}, the distinction in the output type has led to a naming convention for prediction tasks: _regression_ when we predict quantitative (continuous) outputs, and _classification_ when we predict qualitative outputs (discrete). As the goal of this project is to identify if the student will succeed, the problem posed is a classification problem once it requires a binary answer (passed, failed)."
   ]
  },
  {
   "cell_type": "markdown",
   "metadata": {},
   "source": [
    "## 2. Exploring the Data\n",
    "\n",
    "In this section, we will explore the data to look for insides about the features.\n",
    "\n",
    "### 2.1. Basic Facts\n",
    "\n",
    "```\n",
    "Udacity: Let's go ahead and read in the student dataset first. To execute a code cell, click inside it and press Shift+Enter.\n",
    "```\n",
    "Let's go ahead and execute a basic description of the student dataset:"
   ]
  },
  {
   "cell_type": "code",
   "execution_count": 1,
   "metadata": {
    "collapsed": false
   },
   "outputs": [],
   "source": [
    "# Import libraries\n",
    "import numpy as np\n",
    "import pandas as pd"
   ]
  },
  {
   "cell_type": "code",
   "execution_count": 2,
   "metadata": {
    "collapsed": false
   },
   "outputs": [
    {
     "name": "stdout",
     "output_type": "stream",
     "text": [
      "Student data read successfully!\n"
     ]
    }
   ],
   "source": [
    "# Read student data\n",
    "student_data = pd.read_csv(\"student-data.csv\")\n",
    "print \"Student data read successfully!\"\n",
    "# Note: The last column 'passed' is the target/label, all other are feature columns"
   ]
  },
  {
   "cell_type": "markdown",
   "metadata": {},
   "source": [
    "```\n",
    "Udacity:\n",
    "Now, can you find out the following facts about the dataset?\n",
    "- Total number of students\n",
    "- Number of students who passed\n",
    "- Number of students who failed\n",
    "- Graduation rate of the class (%)\n",
    "- Number of features\n",
    "Use the code block below to compute these values. Instructions/steps are marked using TODOs.\n",
    "```"
   ]
  },
  {
   "cell_type": "code",
   "execution_count": 3,
   "metadata": {
    "collapsed": false
   },
   "outputs": [
    {
     "name": "stdout",
     "output_type": "stream",
     "text": [
      "Total number of students: 395\n",
      "Number of students who passed: 265\n",
      "Number of students who failed: 130\n",
      "Number of features: 31\n",
      "Graduation rate of the class: 67.09%\n"
     ]
    }
   ],
   "source": [
    "# TODO: Compute desired values - replace each '?' with an appropriate expression/function call\n",
    "n_students = student_data.shape[0]\n",
    "n_features = student_data.shape[1]\n",
    "n_passed = sum((student_data.passed==\"yes\"))\n",
    "n_failed = sum((student_data.passed==\"no\"))\n",
    "grad_rate = (n_passed *1./(n_failed+n_passed))*100\n",
    "print \"Total number of students: {}\".format(n_students)\n",
    "print \"Number of students who passed: {}\".format(n_passed)\n",
    "print \"Number of students who failed: {}\".format(n_failed)\n",
    "print \"Number of features: {}\".format(n_features)\n",
    "print \"Graduation rate of the class: {:.2f}%\".format(grad_rate)"
   ]
  },
  {
   "cell_type": "markdown",
   "metadata": {},
   "source": [
    "All the 31 features in the dataset are discrete and Qualitative. There are 14 binary data, 13 ordered categorical variables and other 4 Categorical features. Among them, there are variables such as Father's Job, Family Size, if the student wants to take higher education or if he/she is in a romantic relationship. The data offers a pretty comprehensive profile of student life. At this point, it 's hard to say what features are relevant or not. A complete description of each variable can be found on the Github [project page](https://github.com/udacity/machine-learning/tree/master/projects/student_intervention). There is no missing data on this dataset and no presence of \"real\" outliers. "
   ]
  },
  {
   "cell_type": "markdown",
   "metadata": {},
   "source": [
    "### 2.2. How the features are spread out"
   ]
  },
  {
   "cell_type": "markdown",
   "metadata": {},
   "source": [
    "Before moving on, I am going to plot each feature to see how each inner classes of each variable are divided between the target labels \"Passed\" and \"Not Passed.\" Below is plotted the Categorical features of the dataset. Here is possible to see that when the guardian is not the mother nor the father, it is more likely that the pupil not pass. Also, when the mother's occupation is teaching (_Fjob_), is likely that the student to pass."
   ]
  },
  {
   "cell_type": "code",
   "execution_count": 5,
   "metadata": {
    "collapsed": true
   },
   "outputs": [],
   "source": [
    "import plot_features; reload(plot_features);"
   ]
  },
  {
   "cell_type": "code",
   "execution_count": 45,
   "metadata": {
    "collapsed": false
   },
   "outputs": [
    {
     "data": {
      "image/png": "[encoded data removed]",
      "text/plain": [
       "<matplotlib.figure.Figure at 0x7fdd8c573b50>"
      ]
     },
     "metadata": {},
     "output_type": "display_data"
    }
   ],
   "source": [
    "g = plot_features.bar_chart(student_data, i_plotGroup=1);"
   ]
  },
  {
   "cell_type": "markdown",
   "metadata": {},
   "source": [
    "Looking at the Ordered Categorical Features, where there is an ordering of the values, the features _absences_, _age_ and _failure_ stand out. The _failures_ feature is the number of past class failures (n if 1<=n<3, else 4) and absences is the number of school absences. In all these variables, the bigger the number, the higher the likelihood of the student does not pass."
   ]
  },
  {
   "cell_type": "code",
   "execution_count": 46,
   "metadata": {
    "collapsed": false
   },
   "outputs": [
    {
     "data": {
      "image/png": "[encoded data removed]",
      "text/plain": [
       "<matplotlib.figure.Figure at 0x7fdd910eb250>"
      ]
     },
     "metadata": {},
     "output_type": "display_data"
    }
   ],
   "source": [
    "g = plot_features.bar_chart(student_data, i_plotGroup=2);"
   ]
  },
  {
   "cell_type": "markdown",
   "metadata": {},
   "source": [
    "Finally, looking at the Binary Data, what more draw the attention are the features _higher_ and _schoolsup_. The feature _higher_ is if the student wants to take higher education and _schoolsup_ is if the student has extra educational support. Some features, as _activities_ and _nursery_, presented a very similar distribution between the classes"
   ]
  },
  {
   "cell_type": "code",
   "execution_count": 47,
   "metadata": {
    "collapsed": false
   },
   "outputs": [
    {
     "data": {
      "image/png": "[encoded data removed]",
      "text/plain": [
       "<matplotlib.figure.Figure at 0x7fdd90011f10>"
      ]
     },
     "metadata": {},
     "output_type": "display_data"
    }
   ],
   "source": [
    "g = plot_features.bar_chart(student_data, i_plotGroup=3);"
   ]
  },
  {
   "cell_type": "markdown",
   "metadata": {},
   "source": [
    "As can be seen, there are a lot of features that might add up to the classification process, although some features may be not so relevant It is important to notice that the model developed with this amount of data (365 data points) and variables (31) can suffer from the [curse of dimensionality](https://en.wikipedia.org/wiki/Curse_of_dimensionality). Many of the features will be converted into dummy variables, what could increase the amount of data needed to build an accurate model. Maybe would be interesting to test if treat the binary data as numerical to reduce the necessity to split into dummies (reducing the dimension of the dataset) can increase the performance. It will be made in section 5."
   ]
  },
  {
   "cell_type": "markdown",
   "metadata": {},
   "source": [
    "## 3. Preparing the Data\n",
    "In this section, we will prepare the data for modeling, training and testing.\n",
    "\n",
    "### 3.1. Identify feature and target columns\n",
    "```\n",
    "Udacity:\n",
    "It is often the case that the data you obtain contains non-numeric features. This can be a problem, as most machine learning algorithms expect numeric data to perform computations with.\n",
    "\n",
    "Let's first separate our data into feature and target columns, and see if any features are non-numeric.<br/>\n",
    "**Note**: For this dataset, the last column (`'passed'`) is the target or label we are trying to predict.\n",
    "```\n",
    "It is often the case that the data you obtain contains non-numeric features. This can be a problem, as most machine learning algorithms expect numeric data to perform computations with."
   ]
  },
  {
   "cell_type": "code",
   "execution_count": 4,
   "metadata": {
    "collapsed": false
   },
   "outputs": [
    {
     "name": "stdout",
     "output_type": "stream",
     "text": [
      "Feature column(s):\n",
      "===================\n",
      "\n",
      "school         \tsex            \tage            \taddress        \n",
      "famsize        \tPstatus        \tMedu           \tFedu           \n",
      "Mjob           \tFjob           \treason         \tguardian       \n",
      "traveltime     \tstudytime      \tfailures       \tschoolsup      \n",
      "famsup         \tpaid           \tactivities     \tnursery        \n",
      "higher         \tinternet       \tromantic       \tfamrel         \n",
      "freetime       \tgoout          \tDalc           \tWalc           \n",
      "health         \tabsences       \n",
      "\n",
      "Target column:\n",
      "===================\n",
      "passed\n",
      "\n",
      "Feature values:\n",
      "===================\n",
      "  school sex  age address famsize Pstatus  Medu  Fedu\n",
      "0     GP   F   18       U     GT3       A     4     4\n",
      "1     GP   F   17       U     GT3       T     1     1\n",
      "2     GP   F   15       U     LE3       T     1     1\n",
      "3     GP   F   15       U     GT3       T     4     2\n",
      "4     GP   F   16       U     GT3       T     3     3\n"
     ]
    }
   ],
   "source": [
    "# Extract feature (X) and target (y) columns\n",
    "feature_cols = list(student_data.columns[:-1])  # all columns but last are features\n",
    "target_col = student_data.columns[-1]  # last column is the target/label\n",
    "# columns names\n",
    "i = 0\n",
    "s_rtn = ''\n",
    "print \"Feature column(s):\\n===================\"\n",
    "for s in feature_cols:\n",
    "    if i%4==0:\n",
    "        s_rtn += \"\\n\"\n",
    "        s_rtn += \"{:15s}\".format(s)\n",
    "    else:\n",
    "        s_rtn += \"\\t{:15s}\".format(s)\n",
    "    i += 1\n",
    "print s_rtn\n",
    "print \"\\nTarget column:\\n===================\\n{}\".format(target_col)\n",
    "\n",
    "X_all = student_data[feature_cols]  # feature values for all students\n",
    "y_all = student_data[target_col]  # corresponding targets/labels\n",
    "print \"\\nFeature values:\\n===================\"\n",
    "print X_all.ix[:, 0:8].head()  # print the first 5 rows"
   ]
  },
  {
   "cell_type": "markdown",
   "metadata": {},
   "source": [
    "### 3.2. Preprocess feature columns\n",
    "```\n",
    "Udacity:\n",
    "As you can see, there are several non-numeric columns that need to be converted! Many of them are simply `yes`/`no`, e.g. `internet`. These can be reasonably converted into `1`/`0` (binary) values.\n",
    "\n",
    "Other columns, like `Mjob` and `Fjob`, have more than two values, and are known as _categorical variables_. The recommended way to handle such a column is to create as many columns as possible values (e.g. `Fjob_teacher`, `Fjob_other`, `Fjob_services`, etc.), and assign a `1` to one of them and `0` to all others.\n",
    "\n",
    "These generated columns are sometimes called _dummy variables_, and we will use the `pandas.get_dummies()`(http://pandas.pydata.org/pandas-docs/stable/generated/pandas.get_dummies.html?highlight=get_dummies#pandas.get_dummies) function to perform this transformation.\n",
    "```\n",
    "As can be seen above, there are several non-numeric columns in the dataset that need to be converted. The easiest case is when are only two categories, as \"yes\" or \"no\", e.g. _internet_. These are often represented by single binary digit as $0$ or $1$.\n",
    "\n",
    "According to \\cite{Hastie_2009}, when there are more than two categories, the most commonly alternative used is coding via [_dummy variables_](https://www.moresteam.com/whitepapers/download/dummy-variables.pdf). This method consists in representing a $K$-Level qualitative variable by a vector of $K$ binary variables, where only one of which is \"on\" at a time.\n",
    "\n",
    "So, for example, the _Fjob_ feature will be split into $5$ new features ( *Fjob_teacher*, *Fjob_other*, *Fjob_services*, etc.), and will be assigned a $1$ to one of them and $0$ to all other columns.\n",
    "\n",
    "This transformation will be performed using the pandas function `get_dummies()`. Initially, all binary data that the classes do not correspond to $yes$/$no$ will be converted into dummies.\n"
   ]
  },
  {
   "cell_type": "code",
   "execution_count": 5,
   "metadata": {
    "collapsed": false
   },
   "outputs": [
    {
     "name": "stdout",
     "output_type": "stream",
     "text": [
      "Processed feature columns (48):\n",
      "===================\n",
      "\n",
      "school_GP         \tschool_MS         \tsex_F             \n",
      "sex_M             \tage               \taddress_R         \n",
      "address_U         \tfamsize_GT3       \tfamsize_LE3       \n",
      "Pstatus_A         \tPstatus_T         \tMedu              \n",
      "Fedu              \tMjob_at_home      \tMjob_health       \n",
      "Mjob_other        \tMjob_services     \tMjob_teacher      \n",
      "Fjob_at_home      \tFjob_health       \tFjob_other        \n",
      "Fjob_services     \tFjob_teacher      \treason_course     \n",
      "reason_home       \treason_other      \treason_reputation \n",
      "guardian_father   \tguardian_mother   \tguardian_other    \n",
      "traveltime        \tstudytime         \tfailures          \n",
      "schoolsup         \tfamsup            \tpaid              \n",
      "activities        \tnursery           \thigher            \n",
      "internet          \tromantic          \tfamrel            \n",
      "freetime          \tgoout             \tDalc              \n",
      "Walc              \thealth            \tabsences          \n",
      "\n"
     ]
    }
   ],
   "source": [
    "# Preprocess feature columns\n",
    "def preprocess_features(X, b_covertAll=False):\n",
    "    outX = pd.DataFrame(index=X.index)  # output dataframe, initially empty\n",
    "    d_convert = {\"yes\": ['yes', 'no'], \"no\": ['yes', 'no'], \"A\": ['A', 'T'], \"T\": ['A', 'T'],\n",
    "                 \"R\": ['R', 'U'], \"U\": ['R', 'U'], \"GT3\": ['GT3', 'LE3'], \"LE3\": ['GT3', 'LE3'],\n",
    "                 \"GP\": ['GP', 'MS'], \"MS\": ['GP', 'MS'], \"F\": ['F', 'M'], \"M\": ['F', 'M']}\n",
    "    # Check each column\n",
    "    for col, col_data in X.iteritems():\n",
    "        # If data type is non-numeric, try to replace all yes/no values with 1/0\n",
    "        if not b_covertAll:\n",
    "            if col_data.dtype == object:\n",
    "                col_data = col_data.replace(['yes', 'no'], [1, 0])\n",
    "            # Note: This should change the data type for yes/no columns to int\n",
    "        else:\n",
    "            if col_data.dtype == object:\n",
    "                if col_data[0] in d_convert.keys():\n",
    "                    col_data = col_data.replace(d_convert[col_data[0]], [1, 0])\n",
    "\n",
    "        # If still non-numeric, convert to one or more dummy variables\n",
    "        if col_data.dtype == object:\n",
    "            col_data = pd.get_dummies(col_data, prefix=col)  # e.g. 'school' => 'school_GP', 'school_MS'\n",
    "\n",
    "        outX = outX.join(col_data)  # collect column(s) in output dataframe\n",
    "\n",
    "    return outX\n",
    "\n",
    "X_all1 = preprocess_features(X_all)\n",
    "print \"Processed feature columns ({}):\\n===================\".format(len(X_all1.columns))\n",
    "s_rtn = \"\"\n",
    "i = 0\n",
    "for s in list(X_all1.columns):\n",
    "    if i%3==0:\n",
    "        s_rtn += \"\\n\"\n",
    "        s_rtn += \"{:18s}\".format(s)\n",
    "    else:\n",
    "        s_rtn += \"\\t{:18s}\".format(s)\n",
    "    i += 1\n",
    "print s_rtn\n",
    "print ''"
   ]
  },
  {
   "cell_type": "markdown",
   "metadata": {},
   "source": [
    "Now, all binary data will be converted into $0$/$1$ for future tests. The amount of features just reduced from 48 to 43."
   ]
  },
  {
   "cell_type": "code",
   "execution_count": 6,
   "metadata": {
    "collapsed": false
   },
   "outputs": [
    {
     "name": "stdout",
     "output_type": "stream",
     "text": [
      "Processed feature columns (43):\n",
      "===================\n",
      "\n",
      "school            \tsex               \tage               \n",
      "address           \tfamsize           \tPstatus           \n",
      "Medu              \tFedu              \tMjob_at_home      \n",
      "Mjob_health       \tMjob_other        \tMjob_services     \n",
      "Mjob_teacher      \tFjob_at_home      \tFjob_health       \n",
      "Fjob_other        \tFjob_services     \tFjob_teacher      \n",
      "reason_course     \treason_home       \treason_other      \n",
      "reason_reputation \tguardian_father   \tguardian_mother   \n",
      "guardian_other    \ttraveltime        \tstudytime         \n",
      "failures          \tschoolsup         \tfamsup            \n",
      "paid              \tactivities        \tnursery           \n",
      "higher            \tinternet          \tromantic          \n",
      "famrel            \tfreetime          \tgoout             \n",
      "Dalc              \tWalc              \thealth            \n",
      "absences          \n"
     ]
    }
   ],
   "source": [
    "X_all2 = preprocess_features(X_all,b_covertAll=True)\n",
    "print \"Processed feature columns ({}):\\n===================\".format(len(X_all2.columns))\n",
    "s_rtn = \"\"\n",
    "i = 0\n",
    "for s in list(X_all2.columns):\n",
    "    if i%3==0:\n",
    "        s_rtn += \"\\n\"\n",
    "        s_rtn += \"{:18s}\".format(s)\n",
    "    else:\n",
    "        s_rtn += \"\\t{:18s}\".format(s)\n",
    "    i += 1\n",
    "print s_rtn"
   ]
  },
  {
   "cell_type": "markdown",
   "metadata": {},
   "source": [
    "### 3.3. Split data into training and test sets\n",
    "```\n",
    "Udacity:\n",
    "So far, we have converted all _categorical_ features into numeric values. In this next step, we split the data (both features and corresponding labels) into training and test sets.\n",
    "```\n",
    "So far, I have converted all _categorical_ features into numeric values. To be able to judge if the model chosen in the next section will generalize well from its experience, I will hold out part of the data to measure how the algorithms are performing on yet-unseen examples. In this next step, I am going to split the data (both features and corresponding labels) into training and test sets. I will use the function `cross_validation.train_test_split()` from _sklearn_ for that."
   ]
  },
  {
   "cell_type": "code",
   "execution_count": 7,
   "metadata": {
    "collapsed": false
   },
   "outputs": [
    {
     "name": "stdout",
     "output_type": "stream",
     "text": [
      "Training set: 296 samples\n",
      "Test set: 99 samples\n"
     ]
    }
   ],
   "source": [
    "# First, decide how many training vs test samples you want\n",
    "num_all = student_data.shape[0]  # same as len(student_data)\n",
    "num_train = 300  # about 75% of the data\n",
    "num_test = num_all - num_train\n",
    "\n",
    "# TODO: Then, select features (X) and corresponding labels (y) for the training and test sets\n",
    "# Note: Shuffle the data or randomly select samples to avoid any bias due to ordering in the dataset\n",
    "from sklearn.cross_validation import train_test_split\n",
    "\n",
    "def shuffle_split_data(X, y):\n",
    "    \"\"\" \n",
    "    Shuffles and splits data into 75% training and 25% testing subsets,\n",
    "    then returns the training and testing subsets.\n",
    "    \"\"\"\n",
    "    # Shuffle and split the data\n",
    "    X_train, X_test, y_train, y_test = train_test_split(X, y, test_size=0.25,\n",
    "                                                        random_state=0)\n",
    "    # Return the training and testing data subsets\n",
    "    return X_train, y_train, X_test, y_test\n",
    "\n",
    "\n",
    "X_train ,y_train, X_test, y_test = shuffle_split_data(X_all1, y_all)\n",
    "X_train2 ,y_train2, X_test2, y_test2 = shuffle_split_data(X_all2, y_all)\n",
    "print \"Training set: {} samples\".format(X_train.shape[0])\n",
    "print \"Test set: {} samples\".format(X_test.shape[0])\n",
    "# Note: If you need a validation set, extract it from within training data"
   ]
  },
  {
   "cell_type": "markdown",
   "metadata": {},
   "source": [
    "## 4. Training and Evaluating Models\n",
    "```\n",
    "Udacity:\n",
    "Choose 3 supervised learning models that are available in scikit-learn, and appropriate for this problem. For each model:\n",
    "\n",
    "- What are the general applications of this model? What are its strengths and weaknesses?\n",
    "- Given what you know about the data so far, why did you choose this model to apply?\n",
    "- Fit this model to the training data, try to predict labels (for both training and test sets), and measure the F1 score. Repeat this process with different training set sizes (100, 200, 300), keeping test set constant.\n",
    "\n",
    "Produce a table showing training time, prediction time, F1 score on training set and F1 score on test set, for each training set size.\n",
    "\n",
    "Note: You need to produce 3 such tables - one for each model.\n",
    "```\n",
    "\n",
    "As stated in Section 1, the model will be evaluated on three factors: F1 Score, The size of the training set needed to build an acceptable model, and the computation resources used.\n",
    "Before selecting the algorithms to test their performance and amount of data needed, I am going to check the resources that different Supervised Learning Algorithms take by training them using different sizes of data sets. \n",
    "After that, I will select three algorithms to describe and analyse their performance under different training set sizes using their learning curves"
   ]
  },
  {
   "cell_type": "code",
   "execution_count": 21,
   "metadata": {
    "collapsed": false
   },
   "outputs": [],
   "source": [
    "# Train a model\n",
    "import time\n",
    "from memory_profiler import memory_usage\n",
    "\n",
    "def train_classifier(clf, X_train, y_train, shouldPrint=True):\n",
    "    if shouldPrint:\n",
    "        print \"Training {}...\".format(clf.__class__.__name__)\n",
    "    start = time.time()\n",
    "\n",
    "    f_memUsage = memory_usage((clf.fit,\n",
    "                              (X_train, y_train)),\n",
    "                              max_usage=True)\n",
    "    \n",
    "    \n",
    "    end = time.time()\n",
    "    if shouldPrint:\n",
    "        s_print = \"Done!\\nTraining time (secs): {:.3f}\\nPeak memory: {:.2f} MiB\"\n",
    "        print s_print.format(end - start, f_memUsage[0])\n",
    "    return end - start, f_memUsage[0]"
   ]
  },
  {
   "cell_type": "code",
   "execution_count": 22,
   "metadata": {
    "collapsed": true
   },
   "outputs": [],
   "source": [
    "# Predict on training set and compute F1 score\n",
    "from sklearn.metrics import f1_score\n",
    "\n",
    "def predict_labels(clf, features, target, shouldPrint=True):\n",
    "    \"\"\"\n",
    "    ...\n",
    "    \"\"\"\n",
    "    def predict_aux(clf, d_rtn):\n",
    "        d_rtn[\"rtn\"] = clf.predict(features)\n",
    "    d_rtn = {\"rtn\": []}\n",
    "    s_rtn = \"Predicting labels using {}...\".format(clf.__class__.__name__)\n",
    "    start = time.time()\n",
    "    \n",
    "    f_memUsage = memory_usage((predict_aux,\n",
    "                              (clf, d_rtn)),\n",
    "                              max_usage=True)\n",
    "    \n",
    "    y_pred = d_rtn[\"rtn\"]\n",
    "    end = time.time()\n",
    "    f_time = end - start\n",
    "    s_aux = \"\\nDone!\\nPrediction time (secs): {:.3f}\\nPeak memory: {:.2f} MiB\"\n",
    "    s_rtn += s_aux.format(f_time, f_memUsage[0])\n",
    "    f_rtn = f1_score(target.values, y_pred, pos_label='yes')\n",
    "    if shouldPrint:\n",
    "        print s_rtn\n",
    "    return f_rtn, f_time, f_memUsage"
   ]
  },
  {
   "cell_type": "code",
   "execution_count": 26,
   "metadata": {
    "collapsed": true
   },
   "outputs": [],
   "source": [
    "# Train and predict using different training set sizes\n",
    "def train_predict(clf, X_train, y_train, X_test, y_test):\n",
    "    \"\"\"\n",
    "    ...\n",
    "    \"\"\"\n",
    "    s_rtn = \"------------------------------------------\"\n",
    "    s_rtn += \"Training set size: {}\".format(len(X_train))\n",
    "    train_classifier(clf, X_train, y_train, shouldPrint=False)\n",
    "    t_rtnTrain = predict_labels(clf, X_train, y_train, shouldPrint=False)\n",
    "    s_rtn += \"F1 score for training set: {}\".format(t_rtnTrain[0])\n",
    "    t_rtnTest = predict_labels(clf, X_test, y_test, shouldPrint=False)\n",
    "    s_rtn += \"F1 score for test set: {}\".format(t_rtnTest[0])\n",
    "    return t_rtnTrain, t_rtnTest, s_rtn\n"
   ]
  },
  {
   "cell_type": "markdown",
   "metadata": {},
   "source": [
    "### 4.1. Computation Resources Test\n",
    "\n",
    "I am going to test six different algorithms: Decision Tree, Neural Network, SVM, K-NN, Naive Bayes and AdaBoost. I will use the skit-Learn implementation of these algorithms and I will test them using theirs default parameters."
   ]
  },
  {
   "cell_type": "code",
   "execution_count": 90,
   "metadata": {
    "collapsed": true
   },
   "outputs": [],
   "source": [
    "# TODO: Run the helper function above for desired subsets of training data\n",
    "# Note: Keep the test set constant\n",
    "\n",
    "def makeArrToMakeCurves(clf, X_train, y_train, X_test, y_test):\n",
    "    '''\n",
    "    Return a dictionary of arrays  with time, memory and performance tests\n",
    "    made for the classifier passed. Train the model in different tests\n",
    "    sizes\n",
    "    :param clf: Classifier Object. Classifier already set to be tested\n",
    "    :param X_train: numpy array. features to train the model\n",
    "    :param y_train: numpy array. Labels to fit the model\n",
    "    :param X_test: numpy array. Features to test the model\n",
    "    :param y_test: numpy array. Labels to be compared to the model output\n",
    "    \n",
    "    '''\n",
    "    # We will vary the training set size so that we have 50 different sizes\n",
    "    sizes = np.round(np.linspace(1, len(X_train), 50))\n",
    "    train_f1 = np.zeros(len(sizes))\n",
    "    train_time = np.zeros(len(sizes))\n",
    "    train_mem = np.zeros(len(sizes))\n",
    "\n",
    "    test_f1 = np.zeros(len(sizes))\n",
    "    test_time = np.zeros(len(sizes))\n",
    "    test_men = np.zeros(len(sizes))\n",
    "\n",
    "    # train different training sets sizes\n",
    "    for i, s in enumerate(sizes):\n",
    "        s = int(s)\n",
    "        # Train and test the classifier\n",
    "        t_rtnTrain, t_rtnTest, s_rtn = train_predict(clf, X_train[:s], y_train[:s],\n",
    "                                                     X_test, y_test)\n",
    "        # Find the performance on the training set\n",
    "        train_f1[i] = t_rtnTrain[0]\n",
    "        train_time[i] = t_rtnTrain[1]\n",
    "        train_mem[i] = t_rtnTrain[2][0]\n",
    "\n",
    "        # Find the performance on the testing set\n",
    "        test_f1[i] = t_rtnTest[0]\n",
    "        test_time[i] = t_rtnTest[1]\n",
    "        test_men[i] = t_rtnTest[2][0]\n",
    "    \n",
    "    # build a dictionary with the results\n",
    "    d = {\"name\": clf.__class__.__name__,\n",
    "         \"sizes\": sizes,\n",
    "         \"arr_F1train\": train_f1,\n",
    "         \"arr_F1test\": test_f1,\n",
    "         \"arr_timetrain\": train_time,\n",
    "         \"arr_timetest\": test_time,\n",
    "         \"arr_memtrain\": train_mem,\n",
    "         \"arr_memtest\": test_men}\n",
    "    \n",
    "    return d"
   ]
  },
  {
   "cell_type": "markdown",
   "metadata": {},
   "source": [
    " Decision Tree, Neural Network, SVM, K-NN, Naive Bayes and AdaBoost"
   ]
  },
  {
   "cell_type": "code",
   "execution_count": 106,
   "metadata": {
    "collapsed": true
   },
   "outputs": [],
   "source": [
    "y_trainA = y_train.replace(['yes', 'no'], [1, 0])\n",
    "y_testA = y_test.replace(['yes', 'no'], [1, 0])"
   ]
  },
  {
   "cell_type": "code",
   "execution_count": null,
   "metadata": {
    "collapsed": false
   },
   "outputs": [],
   "source": [
    "kernel='sigmoid'"
   ]
  },
  {
   "cell_type": "code",
   "execution_count": 108,
   "metadata": {
    "collapsed": false
   },
   "outputs": [
    {
     "ename": "ValueError",
     "evalue": "The number of classes has to be greater than one; got 1",
     "output_type": "error",
     "traceback": [
      "\u001b[1;31m---------------------------------------------------------------------------\u001b[0m",
      "\u001b[1;31mValueError\u001b[0m                                Traceback (most recent call last)",
      "\u001b[1;32m<ipython-input-108-a6bb3785e827>\u001b[0m in \u001b[0;36m<module>\u001b[1;34m()\u001b[0m\n\u001b[0;32m      8\u001b[0m \u001b[1;32mfor\u001b[0m \u001b[0mclf\u001b[0m \u001b[1;32min\u001b[0m \u001b[1;33m[\u001b[0m\u001b[0msvm\u001b[0m\u001b[1;33m.\u001b[0m\u001b[0mSVC\u001b[0m\u001b[1;33m(\u001b[0m\u001b[0mrandom_state\u001b[0m\u001b[1;33m=\u001b[0m\u001b[1;36m0\u001b[0m\u001b[1;33m)\u001b[0m\u001b[1;33m,\u001b[0m \u001b[0mGaussianNB\u001b[0m\u001b[1;33m(\u001b[0m\u001b[1;33m)\u001b[0m\u001b[1;33m,\u001b[0m \u001b[0mDecisionTreeClassifier\u001b[0m\u001b[1;33m(\u001b[0m\u001b[0mrandom_state\u001b[0m\u001b[1;33m=\u001b[0m\u001b[1;36m0\u001b[0m\u001b[1;33m)\u001b[0m\u001b[1;33m]\u001b[0m\u001b[1;33m:\u001b[0m\u001b[1;33m\u001b[0m\u001b[0m\n\u001b[0;32m      9\u001b[0m     \u001b[0ms_key\u001b[0m \u001b[1;33m=\u001b[0m \u001b[0mclf\u001b[0m\u001b[1;33m.\u001b[0m\u001b[0m__class__\u001b[0m\u001b[1;33m.\u001b[0m\u001b[0m__name__\u001b[0m\u001b[1;33m\u001b[0m\u001b[0m\n\u001b[1;32m---> 10\u001b[1;33m     \u001b[0md_rtn\u001b[0m\u001b[1;33m[\u001b[0m\u001b[0ms_key\u001b[0m\u001b[1;33m]\u001b[0m \u001b[1;33m=\u001b[0m \u001b[0mmakeArrToMakeCurves\u001b[0m\u001b[1;33m(\u001b[0m\u001b[0mclf\u001b[0m\u001b[1;33m,\u001b[0m \u001b[0mX_train\u001b[0m\u001b[1;33m,\u001b[0m \u001b[0my_trainA\u001b[0m\u001b[1;33m,\u001b[0m \u001b[0mX_test\u001b[0m\u001b[1;33m,\u001b[0m \u001b[0my_testA\u001b[0m\u001b[1;33m)\u001b[0m\u001b[1;33m\u001b[0m\u001b[0m\n\u001b[0m",
      "\u001b[1;32m<ipython-input-90-8a41e735fd50>\u001b[0m in \u001b[0;36mmakeArrToMakeCurves\u001b[1;34m(clf, X_train, y_train, X_test, y_test)\u001b[0m\n\u001b[0;32m     29\u001b[0m         \u001b[1;31m# Train and test the classifier\u001b[0m\u001b[1;33m\u001b[0m\u001b[1;33m\u001b[0m\u001b[0m\n\u001b[0;32m     30\u001b[0m         t_rtnTrain, t_rtnTest, s_rtn = train_predict(clf, X_train[:s], y_train[:s],\n\u001b[1;32m---> 31\u001b[1;33m                                                      X_test, y_test)\n\u001b[0m\u001b[0;32m     32\u001b[0m         \u001b[1;31m# Find the performance on the training set\u001b[0m\u001b[1;33m\u001b[0m\u001b[1;33m\u001b[0m\u001b[0m\n\u001b[0;32m     33\u001b[0m         \u001b[0mtrain_f1\u001b[0m\u001b[1;33m[\u001b[0m\u001b[0mi\u001b[0m\u001b[1;33m]\u001b[0m \u001b[1;33m=\u001b[0m \u001b[0mt_rtnTrain\u001b[0m\u001b[1;33m[\u001b[0m\u001b[1;36m0\u001b[0m\u001b[1;33m]\u001b[0m\u001b[1;33m\u001b[0m\u001b[0m\n",
      "\u001b[1;32m<ipython-input-26-63ea1411aa6d>\u001b[0m in \u001b[0;36mtrain_predict\u001b[1;34m(clf, X_train, y_train, X_test, y_test)\u001b[0m\n\u001b[0;32m      6\u001b[0m     \u001b[0ms_rtn\u001b[0m \u001b[1;33m=\u001b[0m \u001b[1;34m\"------------------------------------------\"\u001b[0m\u001b[1;33m\u001b[0m\u001b[0m\n\u001b[0;32m      7\u001b[0m     \u001b[0ms_rtn\u001b[0m \u001b[1;33m+=\u001b[0m \u001b[1;34m\"Training set size: {}\"\u001b[0m\u001b[1;33m.\u001b[0m\u001b[0mformat\u001b[0m\u001b[1;33m(\u001b[0m\u001b[0mlen\u001b[0m\u001b[1;33m(\u001b[0m\u001b[0mX_train\u001b[0m\u001b[1;33m)\u001b[0m\u001b[1;33m)\u001b[0m\u001b[1;33m\u001b[0m\u001b[0m\n\u001b[1;32m----> 8\u001b[1;33m     \u001b[0mtrain_classifier\u001b[0m\u001b[1;33m(\u001b[0m\u001b[0mclf\u001b[0m\u001b[1;33m,\u001b[0m \u001b[0mX_train\u001b[0m\u001b[1;33m,\u001b[0m \u001b[0my_train\u001b[0m\u001b[1;33m,\u001b[0m \u001b[0mshouldPrint\u001b[0m\u001b[1;33m=\u001b[0m\u001b[0mFalse\u001b[0m\u001b[1;33m)\u001b[0m\u001b[1;33m\u001b[0m\u001b[0m\n\u001b[0m\u001b[0;32m      9\u001b[0m     \u001b[0mt_rtnTrain\u001b[0m \u001b[1;33m=\u001b[0m \u001b[0mpredict_labels\u001b[0m\u001b[1;33m(\u001b[0m\u001b[0mclf\u001b[0m\u001b[1;33m,\u001b[0m \u001b[0mX_train\u001b[0m\u001b[1;33m,\u001b[0m \u001b[0my_train\u001b[0m\u001b[1;33m,\u001b[0m \u001b[0mshouldPrint\u001b[0m\u001b[1;33m=\u001b[0m\u001b[0mFalse\u001b[0m\u001b[1;33m)\u001b[0m\u001b[1;33m\u001b[0m\u001b[0m\n\u001b[0;32m     10\u001b[0m     \u001b[0ms_rtn\u001b[0m \u001b[1;33m+=\u001b[0m \u001b[1;34m\"F1 score for training set: {}\"\u001b[0m\u001b[1;33m.\u001b[0m\u001b[0mformat\u001b[0m\u001b[1;33m(\u001b[0m\u001b[0mt_rtnTrain\u001b[0m\u001b[1;33m[\u001b[0m\u001b[1;36m0\u001b[0m\u001b[1;33m]\u001b[0m\u001b[1;33m)\u001b[0m\u001b[1;33m\u001b[0m\u001b[0m\n",
      "\u001b[1;32m<ipython-input-21-9dfedf84b69d>\u001b[0m in \u001b[0;36mtrain_classifier\u001b[1;34m(clf, X_train, y_train, shouldPrint)\u001b[0m\n\u001b[0;32m     10\u001b[0m     f_memUsage = memory_usage((clf.fit,\n\u001b[0;32m     11\u001b[0m                               (X_train, y_train)),\n\u001b[1;32m---> 12\u001b[1;33m                               max_usage=True)\n\u001b[0m\u001b[0;32m     13\u001b[0m \u001b[1;33m\u001b[0m\u001b[0m\n\u001b[0;32m     14\u001b[0m \u001b[1;33m\u001b[0m\u001b[0m\n",
      "\u001b[1;32m/home/uira/anaconda/lib/python2.7/site-packages/memory_profiler.pyc\u001b[0m in \u001b[0;36mmemory_usage\u001b[1;34m(proc, interval, timeout, timestamps, include_children, max_usage, retval, stream)\u001b[0m\n\u001b[0;32m    236\u001b[0m             \u001b[0mp\u001b[0m\u001b[1;33m.\u001b[0m\u001b[0mstart\u001b[0m\u001b[1;33m(\u001b[0m\u001b[1;33m)\u001b[0m\u001b[1;33m\u001b[0m\u001b[0m\n\u001b[0;32m    237\u001b[0m             \u001b[0mparent_conn\u001b[0m\u001b[1;33m.\u001b[0m\u001b[0mrecv\u001b[0m\u001b[1;33m(\u001b[0m\u001b[1;33m)\u001b[0m  \u001b[1;31m# wait until we start getting memory\u001b[0m\u001b[1;33m\u001b[0m\u001b[0m\n\u001b[1;32m--> 238\u001b[1;33m             \u001b[0mreturned\u001b[0m \u001b[1;33m=\u001b[0m \u001b[0mf\u001b[0m\u001b[1;33m(\u001b[0m\u001b[1;33m*\u001b[0m\u001b[0margs\u001b[0m\u001b[1;33m,\u001b[0m \u001b[1;33m**\u001b[0m\u001b[0mkw\u001b[0m\u001b[1;33m)\u001b[0m\u001b[1;33m\u001b[0m\u001b[0m\n\u001b[0m\u001b[0;32m    239\u001b[0m             \u001b[0mparent_conn\u001b[0m\u001b[1;33m.\u001b[0m\u001b[0msend\u001b[0m\u001b[1;33m(\u001b[0m\u001b[1;36m0\u001b[0m\u001b[1;33m)\u001b[0m  \u001b[1;31m# finish timing\u001b[0m\u001b[1;33m\u001b[0m\u001b[0m\n\u001b[0;32m    240\u001b[0m             \u001b[0mret\u001b[0m \u001b[1;33m=\u001b[0m \u001b[0mparent_conn\u001b[0m\u001b[1;33m.\u001b[0m\u001b[0mrecv\u001b[0m\u001b[1;33m(\u001b[0m\u001b[1;33m)\u001b[0m\u001b[1;33m\u001b[0m\u001b[0m\n",
      "\u001b[1;32m/home/uira/anaconda/lib/python2.7/site-packages/sklearn/svm/base.pyc\u001b[0m in \u001b[0;36mfit\u001b[1;34m(self, X, y, sample_weight)\u001b[0m\n\u001b[0;32m    138\u001b[0m \u001b[1;33m\u001b[0m\u001b[0m\n\u001b[0;32m    139\u001b[0m         \u001b[0mX\u001b[0m \u001b[1;33m=\u001b[0m \u001b[0mcheck_array\u001b[0m\u001b[1;33m(\u001b[0m\u001b[0mX\u001b[0m\u001b[1;33m,\u001b[0m \u001b[0maccept_sparse\u001b[0m\u001b[1;33m=\u001b[0m\u001b[1;34m'csr'\u001b[0m\u001b[1;33m,\u001b[0m \u001b[0mdtype\u001b[0m\u001b[1;33m=\u001b[0m\u001b[0mnp\u001b[0m\u001b[1;33m.\u001b[0m\u001b[0mfloat64\u001b[0m\u001b[1;33m,\u001b[0m \u001b[0morder\u001b[0m\u001b[1;33m=\u001b[0m\u001b[1;34m'C'\u001b[0m\u001b[1;33m)\u001b[0m\u001b[1;33m\u001b[0m\u001b[0m\n\u001b[1;32m--> 140\u001b[1;33m         \u001b[0my\u001b[0m \u001b[1;33m=\u001b[0m \u001b[0mself\u001b[0m\u001b[1;33m.\u001b[0m\u001b[0m_validate_targets\u001b[0m\u001b[1;33m(\u001b[0m\u001b[0my\u001b[0m\u001b[1;33m)\u001b[0m\u001b[1;33m\u001b[0m\u001b[0m\n\u001b[0m\u001b[0;32m    141\u001b[0m \u001b[1;33m\u001b[0m\u001b[0m\n\u001b[0;32m    142\u001b[0m         sample_weight = np.asarray([]\n",
      "\u001b[1;32m/home/uira/anaconda/lib/python2.7/site-packages/sklearn/svm/base.pyc\u001b[0m in \u001b[0;36m_validate_targets\u001b[1;34m(self, y)\u001b[0m\n\u001b[0;32m    476\u001b[0m             raise ValueError(\n\u001b[0;32m    477\u001b[0m                 \u001b[1;34m\"The number of classes has to be greater than one; got %d\"\u001b[0m\u001b[1;33m\u001b[0m\u001b[0m\n\u001b[1;32m--> 478\u001b[1;33m                 % len(cls))\n\u001b[0m\u001b[0;32m    479\u001b[0m \u001b[1;33m\u001b[0m\u001b[0m\n\u001b[0;32m    480\u001b[0m         \u001b[0mself\u001b[0m\u001b[1;33m.\u001b[0m\u001b[0mclasses_\u001b[0m \u001b[1;33m=\u001b[0m \u001b[0mcls\u001b[0m\u001b[1;33m\u001b[0m\u001b[0m\n",
      "\u001b[1;31mValueError\u001b[0m: The number of classes has to be greater than one; got 1"
     ]
    }
   ],
   "source": [
    "# TODO: Choose a model, import it and instantiate an object(CHECK THIS TODO)\n",
    "from sklearn.naive_bayes import GaussianNB\n",
    "from sklearn.tree import DecisionTreeClassifier\n",
    "from sklearn import svm\n",
    "\n",
    "d_rtn = {}\n",
    "# create a model \n",
    "for clf in [svm.SVC(random_state=0), GaussianNB(), DecisionTreeClassifier(random_state=0)]:\n",
    "    s_key = clf.__class__.__name__\n",
    "    d_rtn[s_key] = makeArrToMakeCurves(clf, X_train, y_trainA, X_test, y_testA)"
   ]
  },
  {
   "cell_type": "code",
   "execution_count": null,
   "metadata": {
    "collapsed": false
   },
   "outputs": [],
   "source": [
    "d_rtn.keys()"
   ]
  },
  {
   "cell_type": "code",
   "execution_count": null,
   "metadata": {
    "collapsed": true
   },
   "outputs": [],
   "source": []
  },
  {
   "cell_type": "code",
   "execution_count": null,
   "metadata": {
    "collapsed": true
   },
   "outputs": [],
   "source": []
  },
  {
   "cell_type": "code",
   "execution_count": null,
   "metadata": {
    "collapsed": true
   },
   "outputs": [],
   "source": []
  },
  {
   "cell_type": "code",
   "execution_count": null,
   "metadata": {
    "collapsed": true
   },
   "outputs": [],
   "source": []
  },
  {
   "cell_type": "code",
   "execution_count": null,
   "metadata": {
    "collapsed": true
   },
   "outputs": [],
   "source": []
  },
  {
   "cell_type": "code",
   "execution_count": 98,
   "metadata": {
    "collapsed": false
   },
   "outputs": [
    {
     "data": {
      "text/plain": [
       "GaussianNB()"
      ]
     },
     "execution_count": 98,
     "metadata": {},
     "output_type": "execute_result"
    }
   ],
   "source": []
  },
  {
   "cell_type": "code",
   "execution_count": 96,
   "metadata": {
    "collapsed": false
   },
   "outputs": [
    {
     "data": {
      "image/png": "[encoded data removed]",
      "text/plain": [
       "<matplotlib.figure.Figure at 0x7fbd99914390>"
      ]
     },
     "metadata": {},
     "output_type": "display_data"
    }
   ],
   "source": [
    "#plot the Memory peak curves for all classifiers tested\n",
    "f, ((ax1, ax2, ax3), (ax4, ax5, ax6)) = pl.subplots(2, 3, sharex='all',\n",
    "                                                    sharey='all',figsize=(10,7))\n",
    "l_clf = ['GaussianNB', 'DecisionTreeClassifier', 'GaussianNB', 'GaussianNB', 'GaussianNB', 'GaussianNB']\n",
    "i = 0\n",
    "for s_key, ax in zip(l_clf,[ax1, ax2, ax3, ax4, ax5, ax6]):\n",
    "    i += 1\n",
    "    d_aux = d_rtn[s_key]\n",
    "    ax.plot(d_aux['sizes'], d_aux['arr_memtest'], lw = 2, label = 'Testing Peak Memory')\n",
    "    ax.plot(d_aux['sizes'], d_aux['arr_memtrain'], lw = 2, label = 'Training Peak Memory')\n",
    "    ax.legend()\n",
    "    ax.set_title(d_aux['name'])\n",
    "    if i>3:\n",
    "        ax.set_xlabel('Number of Data Points in Training Set')\n",
    "    ax.set_xlim([0, len(X_train)])\n",
    "\n",
    "# Visual aesthetics\n",
    "f.tight_layout()\n",
    "f.suptitle(\"Memory Peak Performance\", fontsize=18, y=1.03)\n",
    "f.tight_layout()"
   ]
  },
  {
   "cell_type": "code",
   "execution_count": null,
   "metadata": {
    "collapsed": true
   },
   "outputs": [],
   "source": []
  },
  {
   "cell_type": "code",
   "execution_count": null,
   "metadata": {
    "collapsed": true
   },
   "outputs": [],
   "source": []
  },
  {
   "cell_type": "code",
   "execution_count": null,
   "metadata": {
    "collapsed": true
   },
   "outputs": [],
   "source": []
  },
  {
   "cell_type": "code",
   "execution_count": 45,
   "metadata": {
    "collapsed": false
   },
   "outputs": [],
   "source": []
  },
  {
   "cell_type": "code",
   "execution_count": 50,
   "metadata": {
    "collapsed": false
   },
   "outputs": [
    {
     "ename": "NameError",
     "evalue": "global name 'test_err' is not defined",
     "output_type": "error",
     "traceback": [
      "\u001b[1;31m---------------------------------------------------------------------------\u001b[0m",
      "\u001b[1;31mNameError\u001b[0m                                 Traceback (most recent call last)",
      "\u001b[1;32m<ipython-input-50-517ec4c971bf>\u001b[0m in \u001b[0;36m<module>\u001b[1;34m()\u001b[0m\n\u001b[0;32m      1\u001b[0m fig = plotTraningTestCurves(d_rtn[\"arr_memtrain\"],d_rtn[\"arr_memtest\"], d_rtn[\"sizes\"],\n\u001b[1;32m----> 2\u001b[1;33m                             s_title)\n\u001b[0m",
      "\u001b[1;32m<ipython-input-47-d714972eb9aa>\u001b[0m in \u001b[0;36mplotTraningTestCurves\u001b[1;34m(arr_train, arr_test, size, s_name)\u001b[0m\n\u001b[0;32m     15\u001b[0m     \u001b[1;31m# Subplot the learning curve graph\u001b[0m\u001b[1;33m\u001b[0m\u001b[1;33m\u001b[0m\u001b[0m\n\u001b[0;32m     16\u001b[0m     \u001b[0max\u001b[0m \u001b[1;33m=\u001b[0m \u001b[0mfig\u001b[0m\u001b[1;33m.\u001b[0m\u001b[0madd_subplot\u001b[0m\u001b[1;33m(\u001b[0m\u001b[1;36m2\u001b[0m\u001b[1;33m,\u001b[0m \u001b[1;36m1\u001b[0m\u001b[1;33m,\u001b[0m \u001b[1;36m1\u001b[0m\u001b[1;33m)\u001b[0m\u001b[1;33m\u001b[0m\u001b[0m\n\u001b[1;32m---> 17\u001b[1;33m     \u001b[0max\u001b[0m\u001b[1;33m.\u001b[0m\u001b[0mplot\u001b[0m\u001b[1;33m(\u001b[0m\u001b[0msizes\u001b[0m\u001b[1;33m,\u001b[0m \u001b[0mtest_err\u001b[0m\u001b[1;33m,\u001b[0m \u001b[0mlw\u001b[0m \u001b[1;33m=\u001b[0m \u001b[1;36m2\u001b[0m\u001b[1;33m,\u001b[0m \u001b[0mlabel\u001b[0m \u001b[1;33m=\u001b[0m \u001b[1;34m'Testing Score'\u001b[0m\u001b[1;33m)\u001b[0m\u001b[1;33m\u001b[0m\u001b[0m\n\u001b[0m\u001b[0;32m     18\u001b[0m     \u001b[0max\u001b[0m\u001b[1;33m.\u001b[0m\u001b[0mplot\u001b[0m\u001b[1;33m(\u001b[0m\u001b[0msizes\u001b[0m\u001b[1;33m,\u001b[0m \u001b[0mtrain_err\u001b[0m\u001b[1;33m,\u001b[0m \u001b[0mlw\u001b[0m \u001b[1;33m=\u001b[0m \u001b[1;36m2\u001b[0m\u001b[1;33m,\u001b[0m \u001b[0mlabel\u001b[0m \u001b[1;33m=\u001b[0m \u001b[1;34m'Training Score'\u001b[0m\u001b[1;33m)\u001b[0m\u001b[1;33m\u001b[0m\u001b[0m\n\u001b[0;32m     19\u001b[0m     \u001b[0max\u001b[0m\u001b[1;33m.\u001b[0m\u001b[0mlegend\u001b[0m\u001b[1;33m(\u001b[0m\u001b[1;33m)\u001b[0m\u001b[1;33m\u001b[0m\u001b[0m\n",
      "\u001b[1;31mNameError\u001b[0m: global name 'test_err' is not defined"
     ]
    },
    {
     "data": {
      "image/png": "[encoded data removed]",
      "text/plain": [
       "<matplotlib.figure.Figure at 0x7fbdae8c9c10>"
      ]
     },
     "metadata": {},
     "output_type": "display_data"
    }
   ],
   "source": [
    "fig = plotTraningTestCurves(d_rtn[\"arr_memtrain\"],d_rtn[\"arr_memtest\"], d_rtn[\"sizes\"],\n",
    "                            s_title)"
   ]
  },
  {
   "cell_type": "code",
   "execution_count": null,
   "metadata": {
    "collapsed": true
   },
   "outputs": [],
   "source": []
  },
  {
   "cell_type": "code",
   "execution_count": null,
   "metadata": {
    "collapsed": true
   },
   "outputs": [],
   "source": []
  },
  {
   "cell_type": "code",
   "execution_count": null,
   "metadata": {
    "collapsed": true
   },
   "outputs": [],
   "source": []
  },
  {
   "cell_type": "markdown",
   "metadata": {},
   "source": [
    "*Describe the output of the test*"
   ]
  },
  {
   "cell_type": "markdown",
   "metadata": {},
   "source": [
    "*Describe why I am not select x, x and x*"
   ]
  },
  {
   "cell_type": "markdown",
   "metadata": {},
   "source": [
    "### 4.2. Performance Test\n",
    "\n",
    "_Introduce the section and Explain why use F1 score to test the model_\n",
    "\n",
    "#### 4.2.1. Naive Bayes\n",
    "\n",
    "One highly pratical Bayesian learning method is the naive Bayes learner. According to Mitchell, its performance has been shown to be comparable to neural network and decision tree learning in some domains. It is especially appropriate when the dimension $p$ of the feature space is high. The naive Bayes model assumes that given a class $G=j$, the feature $X_k$ are independent\n",
    "\n",
    "$$ f_j(X) = \\prod f_{jk}(X_k)$$\n",
    "\n",
    "While this assumption is generally not true, it does simplify the estimation drastically. it also means that the probability of a given event probability might be wrong, but the conclusion will be right.\n",
    "\n",
    "\n",
    "Mitchell also states that naive Bayes  doesn´t explicit search through the space of possible hypoheses. Instead, the hypothesis is formed without searching, simply by computing the frequency of various data combinations within the training examples.\n",
    "\n",
    "pros and cons\n",
    "\n",
    "mitchell stated at the course that.\n",
    "\n",
    "PROS:\n",
    "- inference is cheap\n",
    "- few parameters\n",
    "- estimate parameters with labeled data\n",
    "- connects inference and classification (inference in any direction. you can estimate what the attributes are and not just the labels)\n",
    "- empirically succesful\n",
    "\n",
    "CONS:\n",
    "- The assumption that the attributes be conditional independent of each other is too strong. For example, it can´t learn](http://blog.echen.me/2011/04/27/choosing-a-machine-learning-classifier/) interactions between labels."
   ]
  },
  {
   "cell_type": "code",
   "execution_count": null,
   "metadata": {
    "collapsed": true
   },
   "outputs": [],
   "source": []
  },
  {
   "cell_type": "code",
   "execution_count": 15,
   "metadata": {
    "collapsed": false
   },
   "outputs": [
    {
     "name": "stdout",
     "output_type": "stream",
     "text": [
      "Training GaussianNB...\n",
      "Done!\n",
      "Training time (secs): 0.234\n",
      "Peak memory: 129.18 MiB\n"
     ]
    }
   ],
   "source": [
    "# TODO: Choose a model, import it and instantiate an object\n",
    "from sklearn.naive_bayes import GaussianNB\n",
    "clf = GaussianNB()\n",
    "\n",
    "# Fit model to training data\n",
    "f_time, f_memory = train_classifier(clf, X_train, y_train)  # note: using entire training set here\n",
    "#print clf  # you can inspect the learned model by printing it"
   ]
  },
  {
   "cell_type": "code",
   "execution_count": 16,
   "metadata": {
    "collapsed": false
   },
   "outputs": [
    {
     "name": "stdout",
     "output_type": "stream",
     "text": [
      "Predicting labels using GaussianNB...\n",
      "Done!\n",
      "Prediction time (secs): 0.099\n",
      "Peak memory: 129.27 MiB\n",
      "F1 score for test set: 0.746478873239\n"
     ]
    }
   ],
   "source": [
    "# Predict on test data\n",
    "train_f1_score, f_time, f_memUsage = predict_labels(clf, X_test, y_test)\n",
    "print \"F1 score for test set: {}\".format(train_f1_score)"
   ]
  },
  {
   "cell_type": "code",
   "execution_count": null,
   "metadata": {
    "collapsed": true
   },
   "outputs": [],
   "source": []
  },
  {
   "cell_type": "markdown",
   "metadata": {},
   "source": [
    "#### 4.2.2. Decision Tree"
   ]
  },
  {
   "cell_type": "code",
   "execution_count": 8,
   "metadata": {
    "collapsed": true
   },
   "outputs": [],
   "source": [
    "# TODO: Train and predict using two other models\n"
   ]
  },
  {
   "cell_type": "code",
   "execution_count": null,
   "metadata": {
    "collapsed": true
   },
   "outputs": [],
   "source": []
  },
  {
   "cell_type": "code",
   "execution_count": null,
   "metadata": {
    "collapsed": true
   },
   "outputs": [],
   "source": []
  },
  {
   "cell_type": "code",
   "execution_count": null,
   "metadata": {
    "collapsed": true
   },
   "outputs": [],
   "source": []
  },
  {
   "cell_type": "markdown",
   "metadata": {
    "collapsed": true
   },
   "source": [
    "#### 4.2.3. Adaboost"
   ]
  },
  {
   "cell_type": "code",
   "execution_count": null,
   "metadata": {
    "collapsed": true
   },
   "outputs": [],
   "source": []
  },
  {
   "cell_type": "code",
   "execution_count": null,
   "metadata": {
    "collapsed": true
   },
   "outputs": [],
   "source": []
  },
  {
   "cell_type": "code",
   "execution_count": null,
   "metadata": {
    "collapsed": true
   },
   "outputs": [],
   "source": []
  },
  {
   "cell_type": "code",
   "execution_count": null,
   "metadata": {
    "collapsed": true
   },
   "outputs": [],
   "source": []
  },
  {
   "cell_type": "code",
   "execution_count": null,
   "metadata": {
    "collapsed": true
   },
   "outputs": [],
   "source": []
  },
  {
   "cell_type": "markdown",
   "metadata": {},
   "source": [
    "*TODO:*\n",
    "\n",
    "*- start by exploring the computation resource (by charting). I could test all with default configurations and them explain that maybe I should test to the model complexity either (but I shouldn't implement that). I can talk about the notion of [soft computing](https://www.quora.com/What-are-the-running-times-of-various-machine-learning-algorithms-like-SVM-neural-networks-etc-in-terms-of-big-O-notation) here. Maybe I should start by guessing the outcomes and briefing why of my guessings.*\n",
    "\n",
    "*- After that, I could select this three models and give a brief of each one. Answer the 1) and 2) here*\n",
    "\n",
    "*- Then, I could evaluate the learning curve to decide about the total amount of data required and the F1 score. I should use the same ylim to all charts*\n",
    "\n",
    "*- finaly, I can produce those 3 tables*"
   ]
  },
  {
   "cell_type": "code",
   "execution_count": null,
   "metadata": {
    "collapsed": true
   },
   "outputs": [],
   "source": []
  },
  {
   "cell_type": "code",
   "execution_count": null,
   "metadata": {
    "collapsed": true
   },
   "outputs": [],
   "source": []
  },
  {
   "cell_type": "code",
   "execution_count": 17,
   "metadata": {
    "collapsed": false
   },
   "outputs": [
    {
     "ename": "TypeError",
     "evalue": "predict_labels() got an unexpected keyword argument 'rtnTxt'",
     "output_type": "error",
     "traceback": [
      "\u001b[1;31m---------------------------------------------------------------------------\u001b[0m",
      "\u001b[1;31mTypeError\u001b[0m                                 Traceback (most recent call last)",
      "\u001b[1;32m<ipython-input-17-027b29bb483d>\u001b[0m in \u001b[0;36m<module>\u001b[1;34m()\u001b[0m\n\u001b[0;32m     20\u001b[0m     \u001b[1;31m# Setup a decision tree regressor so that it learns a tree with max_depth = depth\u001b[0m\u001b[1;33m\u001b[0m\u001b[1;33m\u001b[0m\u001b[0m\n\u001b[0;32m     21\u001b[0m     t_rtnTrain, t_rtnTest, s_rtn = train_predict(clf, X_train[:s], y_train[:s],\n\u001b[1;32m---> 22\u001b[1;33m                                                  X_test, y_test)\n\u001b[0m\u001b[0;32m     23\u001b[0m     \u001b[1;31m# Find the performance on the training set\u001b[0m\u001b[1;33m\u001b[0m\u001b[1;33m\u001b[0m\u001b[0m\n\u001b[0;32m     24\u001b[0m     \u001b[0mtrain_f1\u001b[0m\u001b[1;33m[\u001b[0m\u001b[0mi\u001b[0m\u001b[1;33m]\u001b[0m \u001b[1;33m=\u001b[0m \u001b[0mt_rtnTrain\u001b[0m\u001b[1;33m[\u001b[0m\u001b[1;36m0\u001b[0m\u001b[1;33m]\u001b[0m\u001b[1;33m\u001b[0m\u001b[0m\n",
      "\u001b[1;32m<ipython-input-14-8bae7e5abb47>\u001b[0m in \u001b[0;36mtrain_predict\u001b[1;34m(clf, X_train, y_train, X_test, y_test)\u001b[0m\n\u001b[0;32m      7\u001b[0m     \u001b[0ms_rtn\u001b[0m \u001b[1;33m+=\u001b[0m \u001b[1;34m\"Training set size: {}\"\u001b[0m\u001b[1;33m.\u001b[0m\u001b[0mformat\u001b[0m\u001b[1;33m(\u001b[0m\u001b[0mlen\u001b[0m\u001b[1;33m(\u001b[0m\u001b[0mX_train\u001b[0m\u001b[1;33m)\u001b[0m\u001b[1;33m)\u001b[0m\u001b[1;33m\u001b[0m\u001b[0m\n\u001b[0;32m      8\u001b[0m     \u001b[0mtrain_classifier\u001b[0m\u001b[1;33m(\u001b[0m\u001b[0mclf\u001b[0m\u001b[1;33m,\u001b[0m \u001b[0mX_train\u001b[0m\u001b[1;33m,\u001b[0m \u001b[0my_train\u001b[0m\u001b[1;33m,\u001b[0m \u001b[0mshouldPrint\u001b[0m\u001b[1;33m=\u001b[0m\u001b[0mFalse\u001b[0m\u001b[1;33m)\u001b[0m\u001b[1;33m\u001b[0m\u001b[0m\n\u001b[1;32m----> 9\u001b[1;33m     \u001b[0mt_rtnTrain\u001b[0m \u001b[1;33m=\u001b[0m \u001b[0mpredict_labels\u001b[0m\u001b[1;33m(\u001b[0m\u001b[0mclf\u001b[0m\u001b[1;33m,\u001b[0m \u001b[0mX_train\u001b[0m\u001b[1;33m,\u001b[0m \u001b[0my_train\u001b[0m\u001b[1;33m,\u001b[0m \u001b[0mrtnTxt\u001b[0m\u001b[1;33m=\u001b[0m\u001b[0mFalse\u001b[0m\u001b[1;33m)\u001b[0m\u001b[1;33m\u001b[0m\u001b[0m\n\u001b[0m\u001b[0;32m     10\u001b[0m     \u001b[0ms_rtn\u001b[0m \u001b[1;33m+=\u001b[0m \u001b[1;34m\"F1 score for training set: {}\"\u001b[0m\u001b[1;33m.\u001b[0m\u001b[0mformat\u001b[0m\u001b[1;33m(\u001b[0m\u001b[0mt_rtnTrain\u001b[0m\u001b[1;33m[\u001b[0m\u001b[1;36m0\u001b[0m\u001b[1;33m]\u001b[0m\u001b[1;33m)\u001b[0m\u001b[1;33m\u001b[0m\u001b[0m\n\u001b[0;32m     11\u001b[0m     \u001b[0mt_rtnTest\u001b[0m \u001b[1;33m=\u001b[0m \u001b[0mpredict_labels\u001b[0m\u001b[1;33m(\u001b[0m\u001b[0mclf\u001b[0m\u001b[1;33m,\u001b[0m \u001b[0mX_test\u001b[0m\u001b[1;33m,\u001b[0m \u001b[0my_test\u001b[0m\u001b[1;33m,\u001b[0m \u001b[0mrtnTxt\u001b[0m\u001b[1;33m=\u001b[0m\u001b[0mFalse\u001b[0m\u001b[1;33m)\u001b[0m\u001b[1;33m\u001b[0m\u001b[0m\n",
      "\u001b[1;31mTypeError\u001b[0m: predict_labels() got an unexpected keyword argument 'rtnTxt'"
     ]
    }
   ],
   "source": [
    "\n",
    "# TODO: Run the helper function above for desired subsets of training data\n",
    "# Note: Keep the test set constant\n",
    "\n",
    "\n",
    "# We will vary the training set size so that we have 50 different sizes\n",
    "sizes = np.round(np.linspace(1, len(X_train), 50))\n",
    "train_f1 = np.zeros(len(sizes))\n",
    "train_time = np.zeros(len(sizes))\n",
    "train_mem = np.zeros(len(sizes))\n",
    "\n",
    "test_f1 = np.zeros(len(sizes))\n",
    "test_time = np.zeros(len(sizes))\n",
    "test_men = np.zeros(len(sizes))\n",
    "\n",
    "\n",
    "\n",
    "for i, s in enumerate(sizes):\n",
    "    s = int(s)\n",
    "    # Setup a decision tree regressor so that it learns a tree with max_depth = depth\n",
    "    t_rtnTrain, t_rtnTest, s_rtn = train_predict(clf, X_train[:s], y_train[:s],\n",
    "                                                 X_test, y_test)\n",
    "    # Find the performance on the training set\n",
    "    train_f1[i] = t_rtnTrain[0]\n",
    "    train_time[i] = t_rtnTrain[1]\n",
    "    train_mem[i] = t_rtnTrain[2]\n",
    "\n",
    "    # Find the performance on the testing set\n",
    "    test_f1[i] = t_rtnTest[0]\n",
    "    test_time[i] = t_rtnTest[1]\n",
    "    test_men[i] = t_rtnTest[2]\n",
    "\n",
    "\n",
    "print \"Done!\""
   ]
  },
  {
   "cell_type": "code",
   "execution_count": 26,
   "metadata": {
    "collapsed": false
   },
   "outputs": [],
   "source": []
  },
  {
   "cell_type": "code",
   "execution_count": 4,
   "metadata": {
    "collapsed": false
   },
   "outputs": [
    {
     "ename": "NameError",
     "evalue": "name 'pl' is not defined",
     "output_type": "error",
     "traceback": [
      "\u001b[0;31m---------------------------------------------------------------------------\u001b[0m",
      "\u001b[0;31mNameError\u001b[0m                                 Traceback (most recent call last)",
      "\u001b[0;32m<ipython-input-4-ee8ab82424f9>\u001b[0m in \u001b[0;36m<module>\u001b[0;34m()\u001b[0m\n\u001b[1;32m      1\u001b[0m \u001b[0;31m# Put this code inside .py file\u001b[0m\u001b[0;34m\u001b[0m\u001b[0;34m\u001b[0m\u001b[0m\n\u001b[1;32m      2\u001b[0m \u001b[0;31m# Create the figure window\u001b[0m\u001b[0;34m\u001b[0m\u001b[0;34m\u001b[0m\u001b[0m\n\u001b[0;32m----> 3\u001b[0;31m \u001b[0mfig\u001b[0m \u001b[0;34m=\u001b[0m \u001b[0mpl\u001b[0m\u001b[0;34m.\u001b[0m\u001b[0mfigure\u001b[0m\u001b[0;34m(\u001b[0m\u001b[0mfigsize\u001b[0m\u001b[0;34m=\u001b[0m\u001b[0;34m(\u001b[0m\u001b[0;36m8\u001b[0m\u001b[0;34m,\u001b[0m\u001b[0;36m6\u001b[0m\u001b[0;34m)\u001b[0m\u001b[0;34m)\u001b[0m\u001b[0;34m\u001b[0m\u001b[0m\n\u001b[0m\u001b[1;32m      4\u001b[0m \u001b[0;34m\u001b[0m\u001b[0m\n\u001b[1;32m      5\u001b[0m \u001b[0;31m# Subplot the learning curve graph\u001b[0m\u001b[0;34m\u001b[0m\u001b[0;34m\u001b[0m\u001b[0m\n",
      "\u001b[0;31mNameError\u001b[0m: name 'pl' is not defined"
     ]
    }
   ],
   "source": [
    "import matplotlib.pyplot as pl\n",
    "# Put this code inside .py file\n",
    "# Create the figure window\n",
    "fig = pl.figure(figsize=(8,6))\n",
    "\n",
    "# Subplot the learning curve graph\n",
    "ax = fig.add_subplot(2, 1, 1)\n",
    "ax.plot(sizes, test_err, lw = 2, label = 'Testing Score')\n",
    "ax.plot(sizes, train_err, lw = 2, label = 'Training Score')\n",
    "ax.legend()\n",
    "ax.set_title('Learning Performances')\n",
    "# ax.set_xlabel('Number of Data Points in Training Set')\n",
    "ax.set_ylabel('F1 Score')\n",
    "ax.set_xlim([0, len(X_train)])\n",
    "\n",
    "\n",
    "ax = fig.add_subplot(2, 1, 2)\n",
    "ax.plot(sizes, test_time * 10**3, lw = 2, label = 'Testing Time')\n",
    "ax.plot(sizes, train_time * 10**3, lw = 2, label = 'Training Time')\n",
    "ax.legend()\n",
    "ax.set_title('Learning Time')\n",
    "ax.set_xlabel('Number of Data Points in Training Set')\n",
    "ax.set_ylabel('Total Time ( $10^3$)')\n",
    "ax.set_xlim([0, len(X_train)])\n",
    "fig.tight_layout()\n",
    "\n",
    "\n",
    "# Visual aesthetics\n",
    "fig.suptitle('Gaussian Naive Bayes Classifier Performance', fontsize=18, y=1.03)\n",
    "fig.tight_layout()\n",
    "\n",
    "# pl.savefig('nb_learning_curve.eps', format='eps', dpi=1000)"
   ]
  },
  {
   "cell_type": "code",
   "execution_count": null,
   "metadata": {
    "collapsed": false
   },
   "outputs": [],
   "source": []
  },
  {
   "cell_type": "code",
   "execution_count": null,
   "metadata": {
    "collapsed": true
   },
   "outputs": [],
   "source": []
  },
  {
   "cell_type": "code",
   "execution_count": null,
   "metadata": {
    "collapsed": true
   },
   "outputs": [],
   "source": []
  },
  {
   "cell_type": "code",
   "execution_count": null,
   "metadata": {
    "collapsed": true
   },
   "outputs": [],
   "source": []
  },
  {
   "cell_type": "markdown",
   "metadata": {},
   "source": [
    "## 5. Choosing the Best Model\n",
    "\n",
    "```\n",
    "Udacity:\n",
    "- Based on the experiments you performed earlier, in 1-2 paragraphs explain to the board of supervisors what single model you chose as the best model. Which model is generally the most appropriate based on the available data, limited resources, cost, and performance?\n",
    "- In 1-2 paragraphs explain to the board of supervisors in layman's terms how the final model chosen is supposed to work (for example if you chose a Decision Tree or Support Vector Machine, how does it make a prediction).\n",
    "- Fine-tune the model. Use Gridsearch with at least one important parameter tuned and with at least 3 settings. Use the entire training set for this.\n",
    "- What is the model's final F1 score?\n",
    "```"
   ]
  },
  {
   "cell_type": "code",
   "execution_count": null,
   "metadata": {
    "collapsed": true
   },
   "outputs": [],
   "source": [
    "# TODO: Fine-tune your model and report the best F1 score"
   ]
  },
  {
   "cell_type": "markdown",
   "metadata": {
    "collapsed": true
   },
   "source": [
    "TODO: Test the reduces dataset here, just with the model choosed"
   ]
  },
  {
   "cell_type": "code",
   "execution_count": null,
   "metadata": {
    "collapsed": true
   },
   "outputs": [],
   "source": []
  },
  {
   "cell_type": "markdown",
   "metadata": {
    "collapsed": true
   },
   "source": [
    "## Reflection"
   ]
  },
  {
   "cell_type": "code",
   "execution_count": null,
   "metadata": {
    "collapsed": true
   },
   "outputs": [],
   "source": []
  },
  {
   "cell_type": "code",
   "execution_count": null,
   "metadata": {
    "collapsed": true
   },
   "outputs": [],
   "source": []
  },
  {
   "cell_type": "code",
   "execution_count": null,
   "metadata": {
    "collapsed": true
   },
   "outputs": [],
   "source": []
  },
  {
   "cell_type": "code",
   "execution_count": null,
   "metadata": {
    "collapsed": true
   },
   "outputs": [],
   "source": []
  },
  {
   "cell_type": "code",
   "execution_count": null,
   "metadata": {
    "collapsed": true
   },
   "outputs": [],
   "source": []
  },
  {
   "cell_type": "code",
   "execution_count": null,
   "metadata": {
    "collapsed": true
   },
   "outputs": [],
   "source": []
  },
  {
   "cell_type": "markdown",
   "metadata": {},
   "source": [
    "_Style notebook and change matplotlib defaults_"
   ]
  },
  {
   "cell_type": "code",
   "execution_count": 1,
   "metadata": {
    "collapsed": false
   },
   "outputs": [
    {
     "data": {
      "text/html": [
       "<style>\n",
       "    @font-face {\n",
       "        font-family: \"Computer Modern\";\n",
       "        src: url('http://9dbb143991406a7c655e-aa5fcb0a5a4ec34cff238a2d56ca4144.r56.cf5.rackcdn.com/cmunss.otf');\n",
       "    }\n",
       "    @font-face {\n",
       "        font-family: \"Computer Modern\";\n",
       "        font-weight: bold;\n",
       "        src: url('http://9dbb143991406a7c655e-aa5fcb0a5a4ec34cff238a2d56ca4144.r56.cf5.rackcdn.com/cmunsx.otf');\n",
       "    }\n",
       "    @font-face {\n",
       "        font-family: \"Computer Modern\";\n",
       "        font-style: oblique;\n",
       "        src: url('http://9dbb143991406a7c655e-aa5fcb0a5a4ec34cff238a2d56ca4144.r56.cf5.rackcdn.com/cmunsi.otf');\n",
       "    }\n",
       "    @font-face {\n",
       "        font-family: \"Computer Modern\";\n",
       "        font-weight: bold;\n",
       "        font-style: oblique;\n",
       "        src: url('http://9dbb143991406a7c655e-aa5fcb0a5a4ec34cff238a2d56ca4144.r56.cf5.rackcdn.com/cmunso.otf');\n",
       "    }\n",
       "    div.cell{\n",
       "        width:800px;\n",
       "        margin-left:16% !important;\n",
       "        margin-right:auto;\n",
       "    }\n",
       "    h1 {\n",
       "        font-family: Helvetica, serif;\n",
       "    }\n",
       "    h4{\n",
       "        margin-top:12px;\n",
       "        margin-bottom: 3px;\n",
       "       }\n",
       "    div.text_cell_render{\n",
       "        font-family: Computer Modern, \"Helvetica Neue\", Arial, Helvetica, Geneva, sans-serif;\n",
       "        line-height: 145%;\n",
       "        font-size: 130%;\n",
       "        width:800px;\n",
       "        margin-left:auto;\n",
       "        margin-right:auto;\n",
       "    }\n",
       "    .CodeMirror{\n",
       "            font-family: \"Source Code Pro\", source-code-pro,Consolas, monospace;\n",
       "    }\n",
       "    .prompt{\n",
       "        display: None;\n",
       "    }\n",
       "    .text_cell_render h5 {\n",
       "        font-weight: 300;\n",
       "        font-size: 22pt;\n",
       "        color: #4057A1;\n",
       "        font-style: italic;\n",
       "        margin-bottom: .5em;\n",
       "        margin-top: 0.5em;\n",
       "        display: block;\n",
       "    }\n",
       "    \n",
       "    .warning{\n",
       "        color: rgb( 240, 20, 20 )\n",
       "        }  \n",
       "</style>\n",
       "\n",
       "\n",
       "\n",
       "<style>\n",
       "    table {\n",
       "        overflow:hidden;\n",
       "        font-family: Computer Modern, \"Helvetica Neue\", Arial, Helvetica, Geneva, sans-serif;\n",
       "        font-size: 12px;\n",
       "        margin: 10px;\n",
       "        width: 480px;\n",
       "        text-align: left;\n",
       "        border-collapse: collapse;\n",
       "        border: 1px solid #d3d3d3;\n",
       "        -moz-border-radius:5px; FF1+;\n",
       "        -webkit-border-radius:5px; Saf3-4;\n",
       "        border-radius:5px;\n",
       "        -moz-box-shadow: 0 0 4px rgba(0, 0, 0, 0.01);    \n",
       "    }\n",
       "    th\n",
       "    {\n",
       "        padding: 12px 17px 12px 17px;\n",
       "        font-weight: normal;\n",
       "        font-size: 14px;\n",
       "        border-bottom: 1px dashed #69c;\n",
       "    }\n",
       "\n",
       "    td\n",
       "    {\n",
       "        padding: 7px 17px 7px 17px;\n",
       "\n",
       "    }\n",
       "\n",
       "    tbody tr:hover th\n",
       "    {\n",
       "\n",
       "        background:  #E9E9E9;\n",
       "    }\n",
       "\n",
       "    tbody tr:hover td\n",
       "    {\n",
       "\n",
       "        background:  #E9E9E9;\n",
       "    }\n",
       "\n",
       "</style>\n",
       "\n",
       "<script>\n",
       "    MathJax.Hub.Config({\n",
       "                        TeX: {\n",
       "                           extensions: [\"AMSmath.js\"]\n",
       "                           },\n",
       "                tex2jax: {\n",
       "                    inlineMath: [ ['$','$'], [\"\\\\(\",\"\\\\)\"] ],\n",
       "                    displayMath: [ ['$$','$$'], [\"\\\\[\",\"\\\\]\"] ]\n",
       "                },\n",
       "                displayAlign: 'center', // Change this to 'center' to center equations.\n",
       "                \"HTML-CSS\": {\n",
       "                    styles: {'.MathJax_Display': {\"margin\": 4}}\n",
       "                }\n",
       "        });\n",
       "</script>\n"
      ],
      "text/plain": [
       "<IPython.core.display.HTML object>"
      ]
     },
     "execution_count": 1,
     "metadata": {},
     "output_type": "execute_result"
    }
   ],
   "source": [
    "#loading style sheet\n",
    "from IPython.core.display import HTML\n",
    "HTML( open('ipython_style.css').read())"
   ]
  },
  {
   "cell_type": "code",
   "execution_count": 41,
   "metadata": {
    "collapsed": true
   },
   "outputs": [],
   "source": [
    "#changing matplotlib defaults\n",
    "%matplotlib inline\n",
    "import seaborn as sns\n",
    "sns.set_palette(\"deep\", desat=.6)\n",
    "sns.set_context(rc={\"figure.figsize\": (8, 4)})\n",
    "sns.set_style(\"whitegrid\")\n",
    "sns.set_palette(sns.color_palette(\"Set2\", 10))"
   ]
  },
  {
   "cell_type": "code",
   "execution_count": null,
   "metadata": {
    "collapsed": true
   },
   "outputs": [],
   "source": []
  }
 ],
 "metadata": {
  "kernelspec": {
   "display_name": "Python 2",
   "language": "python",
   "name": "python2"
  },
  "language_info": {
   "codemirror_mode": {
    "name": "ipython",
    "version": 2
   },
   "file_extension": ".py",
   "mimetype": "text/x-python",
   "name": "python",
   "nbconvert_exporter": "python",
   "pygments_lexer": "ipython2",
   "version": "2.7.11"
  }
 },
 "nbformat": 4,
 "nbformat_minor": 0
}
